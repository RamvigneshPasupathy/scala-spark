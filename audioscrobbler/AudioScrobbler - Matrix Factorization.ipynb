{
 "cells": [
  {
   "cell_type": "markdown",
   "metadata": {},
   "source": [
    "# Importing Libraries, Loading Data"
   ]
  },
  {
   "cell_type": "code",
   "execution_count": 1,
   "metadata": {},
   "outputs": [],
   "source": [
    "import org.apache.spark.mllib.recommendation._"
   ]
  },
  {
   "cell_type": "code",
   "execution_count": 2,
   "metadata": {},
   "outputs": [
    {
     "data": {
      "text/plain": [
       "rawRDD = user_artist_data_small.txt MapPartitionsRDD[1] at textFile at <console>:35\n"
      ]
     },
     "metadata": {},
     "output_type": "display_data"
    },
    {
     "data": {
      "text/plain": [
       "[1059637 1000010 238, 1059637 1000049 1, 1059637 1000056 1, 1059637 1000062 11, 1059637 1000094 1, 1059637 1000112 423, 1059637 1000113 5, 1059637 1000114 2, 1059637 1000123 2, 1059637 1000130 19129]"
      ]
     },
     "execution_count": 2,
     "metadata": {},
     "output_type": "execute_result"
    }
   ],
   "source": [
    "// this table has three columns\n",
    "// 0 - user id\n",
    "// 1 - artist id\n",
    "// 2 - number of times the user has listened to this artist (implicit ratings)\n",
    "\n",
    "val rawRDD = sc.textFile(\"user_artist_data_small.txt\")\n",
    "rawRDD.take(10)"
   ]
  },
  {
   "cell_type": "code",
   "execution_count": 3,
   "metadata": {},
   "outputs": [
    {
     "data": {
      "text/plain": [
       "(count: 49481, mean: 130.575797, stdev: 3034.354092, max: 439771.000000, min: 1.000000)"
      ]
     },
     "execution_count": 3,
     "metadata": {},
     "output_type": "execute_result"
    }
   ],
   "source": [
    "// total number of rows in the table\n",
    "rawRDD.map(x => x.split(\" \")(2).toDouble).stats()"
   ]
  },
  {
   "cell_type": "markdown",
   "metadata": {},
   "source": [
    "# User-Item Matrix"
   ]
  },
  {
   "cell_type": "code",
   "execution_count": 4,
   "metadata": {},
   "outputs": [
    {
     "data": {
      "text/plain": [
       "uiMatrix = MapPartitionsRDD[5] at map at <console>:33\n"
      ]
     },
     "metadata": {},
     "output_type": "display_data"
    },
    {
     "data": {
      "text/plain": [
       "MapPartitionsRDD[5] at map at <console>:33"
      ]
     },
     "execution_count": 4,
     "metadata": {},
     "output_type": "execute_result"
    }
   ],
   "source": [
    "// creating the user-item matrix (Rating)\n",
    "val uiMatrix = rawRDD.map(_.split(\" \")).map(x => Rating(x(0).toInt, x(1).toInt, x(2).toInt))"
   ]
  },
  {
   "cell_type": "code",
   "execution_count": 5,
   "metadata": {},
   "outputs": [
    {
     "data": {
      "text/plain": [
       "MapPartitionsRDD[5] at map at <console>:33"
      ]
     },
     "execution_count": 5,
     "metadata": {},
     "output_type": "execute_result"
    }
   ],
   "source": [
    "// this matrix will be used frequently, inside our recommendation process\n",
    "// hence it is necessary to persist\n",
    "\n",
    "uiMatrix.persist()"
   ]
  },
  {
   "cell_type": "code",
   "execution_count": 6,
   "metadata": {},
   "outputs": [
    {
     "data": {
      "text/plain": [
       "49481"
      ]
     },
     "execution_count": 6,
     "metadata": {},
     "output_type": "execute_result"
    }
   ],
   "source": [
    "// number of reduced set of users\n",
    "\n",
    "uiMatrix.count()"
   ]
  },
  {
   "cell_type": "markdown",
   "metadata": {},
   "source": [
    "# Matrix Factorization"
   ]
  },
  {
   "cell_type": "code",
   "execution_count": 7,
   "metadata": {},
   "outputs": [
    {
     "data": {
      "text/plain": [
       "model = org.apache.spark.mllib.recommendation.MatrixFactorizationModel@baf8706\n"
      ]
     },
     "metadata": {},
     "output_type": "display_data"
    },
    {
     "data": {
      "text/plain": [
       "org.apache.spark.mllib.recommendation.MatrixFactorizationModel@baf8706"
      ]
     },
     "execution_count": 7,
     "metadata": {},
     "output_type": "execute_result"
    }
   ],
   "source": [
    "// ALS.trainImplicit(user-item matrix, rank, iterations)\n",
    "\n",
    "// trainImplicit is invoked as we use implicit ratings of the users\n",
    "// user-item matrix is an RDD\n",
    "// rank - number of latent factors\n",
    "// iterations - number of times ALS should run\n",
    "\n",
    "// returns an object of MatrixFactorizationModel\n",
    "// the object holds ther user-feature matrix and the item-feature matrix\n",
    "\n",
    "val model = ALS.trainImplicit(uiMatrix, 10, 5)\n",
    "\n",
    "// alpha - 1 (default) - confidence parameter\n",
    "// lambda - 0.01 (default) - regularization parameter\n",
    "// val model = ALS.trainImplicit(uiMatrix, 10, 5, 0.01, 1)"
   ]
  },
  {
   "cell_type": "code",
   "execution_count": 11,
   "metadata": {},
   "outputs": [
    {
     "data": {
      "text/plain": [
       "userID = 1001440\n",
       "recommendations = Array(Rating(1001440,1238230,2.5267438582581736), Rating(1001440,1004294,2.2814567026931103), Rating(1001440,1000418,1.4903283638602127), Rating(1001440,1006633,1.484148654312677), Rating(1001440,1010373,1.4308105224588665))\n"
      ]
     },
     "metadata": {},
     "output_type": "display_data"
    },
    {
     "data": {
      "text/plain": [
       "[Rating(1001440,1238230,2.5267438582581736), Rating(1001440,1004294,2.2814567026931103), Rating(1001440,1000418,1.4903283638602127), Rating(1001440,1006633,1.484148654312677), Rating(1001440,1010373,1.4308105224588665)]"
      ]
     },
     "execution_count": 11,
     "metadata": {},
     "output_type": "execute_result"
    }
   ],
   "source": [
    "var userID: Int = 1001440\n",
    "var recommendations = model.recommendProducts(userID, 5)"
   ]
  }
 ],
 "metadata": {
  "kernelspec": {
   "display_name": "Apache Toree - Scala",
   "language": "scala",
   "name": "apache_toree_scala"
  },
  "language_info": {
   "codemirror_mode": "text/x-scala",
   "file_extension": ".scala",
   "mimetype": "text/x-scala",
   "name": "scala",
   "pygments_lexer": "scala",
   "version": "2.11.8"
  },
  "toc": {
   "base_numbering": 1,
   "nav_menu": {},
   "number_sections": true,
   "sideBar": true,
   "skip_h1_title": false,
   "title_cell": "Table of Contents",
   "title_sidebar": "Contents",
   "toc_cell": false,
   "toc_position": {},
   "toc_section_display": true,
   "toc_window_display": true
  }
 },
 "nbformat": 4,
 "nbformat_minor": 2
}
